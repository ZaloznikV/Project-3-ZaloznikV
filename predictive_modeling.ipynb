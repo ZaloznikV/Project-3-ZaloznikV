{
 "cells": [
  {
   "cell_type": "markdown",
   "metadata": {
    "colab_type": "text",
    "id": "Gbgp0NXdc137"
   },
   "source": [
    "# Project 3: Predictive modeling\n",
    "*University of Ljubljana, Faculty for computer and information science* <br />\n",
    "*Course: Introduction to data science*"
   ]
  },
  {
   "cell_type": "markdown",
   "metadata": {
    "colab_type": "text",
    "id": "UkYxh9TVc13-"
   },
   "source": [
    "In this Jupyter notebook you should document all the analyses (tables, figures, models) you have perfomed to write your report.\n",
    "\n",
    "All the code in the notebook must be reproducible and runnable, so include instructions for the environment setup or other specifics needed to run the notebook."
   ]
  },
  {
   "cell_type": "markdown",
   "metadata": {
    "colab_type": "text",
    "id": "vmDFHSpSc14M"
   },
   "source": [
    "## Environment setup"
   ]
  },
  {
   "cell_type": "markdown",
   "metadata": {
    "colab_type": "text",
    "id": "U6cCtBRGc14R"
   },
   "source": [
    "Write instructions how to setup the environment to run this notebook, which libraries are installed, etc. Also provide installation sources.\n",
    "\n",
    "`ENVIRONMENT SETUP:\n",
    "\n",
    "- conda create --name project_3\n",
    "\n",
    "- conda install python=3.7\n",
    "\n",
    "- conda install jupyter notebook\n",
    "\n",
    "- ipython kernel install --name project_3 --user\n",
    "\n",
    "- conda install pandas\n",
    "\n",
    "- conda install numpy\n",
    "\n",
    "- conda install matplotlib\n",
    "\n",
    "- conda install scipy\n",
    "\n",
    "- conda install seaborn\n",
    "\n",
    "- conda install scikit-learn`"
   ]
  },
  {
   "cell_type": "code",
   "execution_count": null,
   "metadata": {
    "colab": {},
    "colab_type": "code",
    "id": "X3ooqpJOc14V"
   },
   "outputs": [],
   "source": [
    "# Load all the libraries needed for running the code chunks below"
   ]
  },
  {
   "cell_type": "markdown",
   "metadata": {
    "colab_type": "text",
    "id": "aIXBDoF1c14Z"
   },
   "source": [
    "# Modeling"
   ]
  },
  {
   "cell_type": "markdown",
   "metadata": {
    "colab": {},
    "colab_type": "code",
    "id": "mGR3NslWc14c"
   },
   "source": [
    "Your main task is to provide insights into the data to the reader through text, tables, models and visualizations. Aim for a concise, efficient, and effective solution."
   ]
  },
  {
   "cell_type": "code",
   "execution_count": null,
   "metadata": {
    "colab": {},
    "colab_type": "code",
    "id": "TIa6vaMOc140"
   },
   "outputs": [],
   "source": [
    "# Modeling ... code"
   ]
  }
 ],
 "metadata": {
  "colab": {
   "name": "predictive_modeling.ipynb",
   "provenance": []
  },
  "kernelspec": {
   "display_name": "project_3",
   "language": "python",
   "name": "project_3"
  },
  "language_info": {
   "codemirror_mode": {
    "name": "ipython",
    "version": 3
   },
   "file_extension": ".py",
   "mimetype": "text/x-python",
   "name": "python",
   "nbconvert_exporter": "python",
   "pygments_lexer": "ipython3",
   "version": "3.7.11"
  }
 },
 "nbformat": 4,
 "nbformat_minor": 1
}
